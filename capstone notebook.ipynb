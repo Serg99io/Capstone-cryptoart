{
 "cells": [
  {
   "cell_type": "markdown",
   "metadata": {},
   "source": [
    "In this notebook the code for my capstone will be nicely explained and commented. Below I will start by extracting the data from the csv files.\n"
   ]
  },
  {
   "cell_type": "code",
   "execution_count": 3,
   "metadata": {},
   "outputs": [],
   "source": [
    "import csv\n",
    "import pandas\n",
    "import math\n",
    "import matplotlib.pyplot as plt\n",
    "import numpy as np\n",
    "from sklearn.linear_model import LinearRegression\n",
    "import datetime\n",
    "from collections import Counter\n",
    "import random\n",
    "from statistics import mean\n"
   ]
  },
  {
   "cell_type": "code",
   "execution_count": 4,
   "metadata": {},
   "outputs": [
    {
     "name": "stdout",
     "output_type": "stream",
     "text": [
      "['2018-04-05T23:50:12Z', '2020-01-18T16:16:42Z', '2021-01-05T00:47:24Z', '2018-04-05T23:59:06Z', '2018-09-05T21:06:04Z']\n"
     ]
    }
   ],
   "source": [
    "#if any of the used feautures has a NaN value it not be used.\n",
    "df_sales2 = pandas.read_csv(\"sales2.csv\")\n",
    "c = df_sales2.columns[0:7]\n",
    "df_sales = df_sales2.dropna(subset=c)\n",
    "df_tokens = pandas.read_csv(\"tokens2.csv\")\n",
    "\n",
    "#every column is converted to a list since it is easier to work with but the index is now important since any change\n",
    "#could mess up the data\n",
    "usd_sales = df_sales['usd'].tolist()\n",
    "tokenId_sales = df_sales['tokenId'].tolist()\n",
    "timestamp_sales = df_sales['timestamp'].tolist()\n",
    "buyer_sales = df_sales['buyer'].tolist()\n",
    "seller_sales = df_sales['seller'].tolist()\n",
    "rate_sales = df_sales['rate'].tolist()\n",
    "\n",
    "creator_tokens = df_tokens['creator'].tolist()\n",
    "tokenId_tokens = df_tokens['tokenId'].tolist()\n",
    "\n",
    "#example of timestamp_sales\n",
    "print(timestamp_sales[:5])"
   ]
  },
  {
   "cell_type": "markdown",
   "metadata": {},
   "source": [
    "Below I will make a basic matrix with the features; the year, month and week it got sold and the artist. The artist will only be unique when he made 40 or more sales, else he will go in the \"other\" category."
   ]
  },
  {
   "cell_type": "code",
   "execution_count": 5,
   "metadata": {
    "scrolled": true
   },
   "outputs": [
    {
     "name": "stdout",
     "output_type": "stream",
     "text": [
      "[263, 478, 1877, 2782]\n"
     ]
    },
    {
     "data": {
      "text/plain": [
       "' \\nall works according to plan\\nprint(usd_sales[263])\\nprint(usd_sales[478])\\nprint(usd_sales[1877])\\nprint(usd_sales[2782])\\n\\nprint(timestamp_sales[263])\\nprint(timestamp_sales[478])\\nprint(timestamp_sales[1877])\\nprint(timestamp_sales[2782])\\n\\n\\nprint(value[263])\\nprint(value[478])\\nprint(value[1877])\\nprint(value[2782])\\n'"
      ]
     },
     "execution_count": 5,
     "metadata": {},
     "output_type": "execute_result"
    },
    {
     "data": {
      "image/png": "[encoded data removed]",
      "text/plain": [
       "<Figure size 432x288 with 1 Axes>"
      ]
     },
     "metadata": {
      "needs_background": "light"
     },
     "output_type": "display_data"
    }
   ],
   "source": [
    "matrix_basic = np.zeros((len(timestamp_sales),8))\n",
    "\n",
    "count = 0\n",
    "#first day something got sold in this dataset. \n",
    "first_day = datetime.datetime(2018, 4, 5)\n",
    "\n",
    "#list with datetime.datetime of sale of every sale\n",
    "lstdays = []\n",
    "\n",
    "#list with days since first sale of every sale\n",
    "lstdays2 = []\n",
    "\n",
    "\n",
    "for i in timestamp_sales:\n",
    "    date = i.split(\"T\")[0]\n",
    "    time = i.split(\"T\")[1][0:-1]\n",
    "    #getting a datetime format out of timestamps.\n",
    "    date2 = datetime.datetime(int(date[0:4]),int(date[5:7]),int(date[8:]),hour = int(time[0:2]),minute = int(time[3:5]), second = int(time[6:]))\n",
    "    date_year = date[:4]\n",
    "    date_months = date[5:7]\n",
    "    date_days = date[8:]\n",
    "    matrix_basic[count][0] = int(date_year) - 2017 \n",
    "    matrix_basic[count][1] = int(date_months)\n",
    "    matrix_basic[count][2] = math.ceil(int(date_days)/7)\n",
    "    #print(str(math.ceil(int(date_days)/7)) + \" \" + str(date_days)) #test\n",
    "    delta = date2 - first_day\n",
    "    daydiff = delta.days\n",
    "    lstdays.append(date2)\n",
    "    lstdays2.append(daydiff)\n",
    "    count = count + 1\n",
    "#the first 10 dates have been tested \n",
    "    \n",
    "fig, ax6 = plt.subplots()\n",
    "ax6.scatter(lstdays2, usd_sales,s=12)\n",
    "ax6.set_ylabel(\"price of sale in USD\")\n",
    "ax6.set_xlabel(\"time in days\")\n",
    "ax6.set_title(\"Timeline sales\")\n",
    "#dict with keys tokens and values creator\n",
    "dict_toccrea = dict()\n",
    "countt = 0\n",
    "for i in tokenId_tokens:\n",
    "    #print(len(creator_tokens)) 22232\n",
    "    dict_toccrea[i] = creator_tokens[countt]\n",
    "    countt = countt + 1\n",
    "    \n",
    "listwcreato = []\n",
    "for i in tokenId_sales:\n",
    "\n",
    "    listwcreato.append(dict_toccrea[i])\n",
    "\n",
    "dictcrea = dict()\n",
    "\n",
    "#print(listwcreato)\n",
    "#listwcreato first 10 have been tested and are correct\n",
    "countercreator = Counter(listwcreato)\n",
    "count7 = 0\n",
    "count7_1 = 2\n",
    "#if the artist has sold more than 40 artworks he will get an unique vale in the dictionary\n",
    "for i in listwcreato:\n",
    "    if countercreator[i] >= 40:\n",
    "        if i in dictcrea.keys():\n",
    "            matrix_basic[count7][3] = dictcrea[i]\n",
    "            count7 = count7 + 1\n",
    "        else:\n",
    "            dictcrea[i] = count7_1\n",
    "            matrix_basic[count7][3] = dictcrea[i]\n",
    "            count7 = count7 + 1\n",
    "            count7_1 = count7_1 + 1  \n",
    "    else:\n",
    "        matrix_basic[count7][3] = 1\n",
    "        count7 = count7 + 1\n",
    "\n",
    "        \n",
    "#print(matrix_basic[263,:])\n",
    "#print(matrix_basic[478,:])\n",
    "#print(matrix_basic[1877,:])\n",
    "#matrix first three columns are tested and work. \n",
    "\n",
    "#the value of past artworks sold by the creator.\n",
    "#source: https://stackoverflow.com/questions/5419204/index-of-duplicates-items-in-a-python-list\n",
    "#gets all duplicates\n",
    "def duplicates(lst, item):\n",
    "    lst_dupl = []\n",
    "    count1 = 0\n",
    "    for i in lst:\n",
    "        if i == item:\n",
    "            lst_dupl.append(count1)\n",
    "            count1 =count1 +1\n",
    "        else:\n",
    "            count1 =count1 +1\n",
    "    return lst_dupl\n",
    "\n",
    "\n",
    "count3 = 0\n",
    "lstwithindx = []\n",
    "#we got a list with all indexes in the sales.csv file that have the same creator\n",
    "count231 = 0\n",
    "#test\n",
    "#print(listwcreato[263])\n",
    "#print(listwcreato[478])\n",
    "#print(listwcreato[1877])\n",
    "#print(listwcreato[2782])\n",
    "for i in listwcreato:\n",
    "    lst = duplicates(listwcreato, i)\n",
    "    lstwithindx.append(lst)\n",
    "\n",
    "#part of test\n",
    "for i in range(len(lstwithindx)):\n",
    "    if  3 < len(lstwithindx[i]) < 5:\n",
    "        r = i\n",
    "        break\n",
    "\n",
    "print(lstwithindx[263])\n",
    "#lstwithindx got tested for the first 11 and it was correct\n",
    "count4 = 0\n",
    "value = []\n",
    "for i in lstwithindx:\n",
    "    lst12 = []\n",
    "    for j in i:\n",
    "        #when the datetime precedes the sale time then it will get added to the list of values. \n",
    "        if lstdays[j] < lstdays[count4]:\n",
    "            lst12.append(usd_sales[j])\n",
    "            \n",
    "            #if count < 5:\n",
    "                #print(str(lstdays[j]) + str(lstdays[count4]))\n",
    "    count4 =count4+1\n",
    "    value.append(lst12)\n",
    "#print(value[:12])\n",
    "\n",
    "\"\"\" \n",
    "all works according to plan\n",
    "print(usd_sales[263])\n",
    "print(usd_sales[478])\n",
    "print(usd_sales[1877])\n",
    "print(usd_sales[2782])\n",
    "\n",
    "print(timestamp_sales[263])\n",
    "print(timestamp_sales[478])\n",
    "print(timestamp_sales[1877])\n",
    "print(timestamp_sales[2782])\n",
    "\n",
    "print(value[263])\n",
    "print(value[478])\n",
    "print(value[1877])\n",
    "print(value[2782])\n",
    "\"\"\" "
   ]
  },
  {
   "cell_type": "markdown",
   "metadata": {},
   "source": [
    "In the list value now all the prices of past artworks of the same creator are represented. The average will be taken to get a nice feature. However there are still some special cases to deal with. What to do when the list is empty and when it is the first artwork of a creator or when it is the first artwork ever sold on this platform. It was decided to take out these datapoints."
   ]
  },
  {
   "cell_type": "code",
   "execution_count": 6,
   "metadata": {
    "scrolled": true
   },
   "outputs": [
    {
     "name": "stderr",
     "output_type": "stream",
     "text": [
      "H:\\anaconda\\lib\\site-packages\\numpy\\core\\fromnumeric.py:3372: RuntimeWarning: Mean of empty slice.\n",
      "  return _methods._mean(a, axis=axis, dtype=dtype,\n",
      "H:\\anaconda\\lib\\site-packages\\numpy\\core\\_methods.py:170: RuntimeWarning: invalid value encountered in double_scalars\n",
      "  ret = ret.dtype.type(ret / rcount)\n"
     ]
    }
   ],
   "source": [
    "avg_value = []\n",
    "count9 = 0 \n",
    "for i in value:\n",
    "    #first artwork ever\n",
    "    if count9 == 0:\n",
    "        avg_value.append(np.NaN)\n",
    "        count9 = count9 + 1\n",
    "        continue\n",
    "    #first artwork of creator # I am not sure wheter this is possible or whether it will mess with the linear regression\n",
    "    elif i == [] and count9 != 0:\n",
    "        avg_value.append(np.NaN)\n",
    "    \n",
    "    #mean of past artwork by same creators\n",
    "    elif i != []:\n",
    "        avg_value.append(mean(i))\n",
    "        count9 = count9 + 1\n",
    "\"\"\"\n",
    "print(avg_value[263])\n",
    "print(avg_value[478])\n",
    "print(avg_value[1877])\n",
    "print(avg_value[2782])\n",
    "\"\"\"\n",
    "\n",
    "count111 = 0\n",
    "\"\"\"\n",
    "#Shows how average value is distributed\n",
    "avg_value2 = []\n",
    "for i in avg_value:\n",
    "    if not pandas.isnull(i):\n",
    "        avg_value2.append(math.log(i+1))\n",
    "    else:\n",
    "        #print(1)\n",
    "        continue\n",
    "\n",
    "print(avg_value2)\n",
    "r = avg_value2.sort()\n",
    "plt.plot(avg_value2)\n",
    "\"\"\"\n",
    "coe = 0\n",
    "for i in avg_value:\n",
    "    matrix_basic[count111][4] = math.log(i+1)\n",
    "    count111 = count111 + 1\n",
    "#print(matrix_basic[1877])\n",
    "\n",
    "\n",
    "count91 = 0\n",
    "two = []\n",
    "for i in range(len(matrix_basic[:,3])):        \n",
    "        #days of art since first sale. \n",
    "        dateofart = lstdays2[count91]\n",
    "        two_weeks = []\n",
    "        count10 = 0\n",
    "        #getting all artworks indecis 2 weeks before till artwork.\n",
    "        for j in lstdays2:\n",
    "            if dateofart > j >= (dateofart-14):\n",
    "                two_weeks.append(count10)\n",
    "                count10 = count10 + 1\n",
    "            else:\n",
    "                count10 = count10 + 1\n",
    "        sales = []\n",
    "        for k in two_weeks:\n",
    "            sales.append(usd_sales[k])\n",
    "        \n",
    "        r13 = math.log(np.mean(sales) + 1)\n",
    "        matrix_basic[count91][5] = r13\n",
    "        count91 = count91 + 1\n",
    "        \n",
    "      \n"
   ]
  },
  {
   "cell_type": "code",
   "execution_count": 7,
   "metadata": {},
   "outputs": [
    {
     "data": {
      "text/plain": [
       "'\\ncount6 =0\\nr224 = []\\nfor i in rate_sales:\\n    r224.append(i)\\n\\nfor l in range(len(r224)):\\n    matrix_basic[l][8] = math.log(r224[int(l)] + 1)\\n'"
      ]
     },
     "execution_count": 7,
     "metadata": {},
     "output_type": "execute_result"
    }
   ],
   "source": [
    "from collections import Counter\n",
    "\n",
    "#feature buyer\n",
    "\n",
    "#add buy guy with unique number if he did more than 15 buys\n",
    "dictbuy = dict()\n",
    "count22 = 0\n",
    "count33 = 1\n",
    "coun = Counter(buyer_sales)\n",
    "\n",
    "\n",
    "for i in buyer_sales:\n",
    "    \n",
    "    if i in dictbuy.keys():\n",
    "            count22 = count22 + 1\n",
    "    else:\n",
    "        dictbuy[i] = count33\n",
    "        count33 = count33 + 1\n",
    "        count22 = count22 + 1\n",
    " #check whether counter of number is higher then 15\n",
    "dict_buy15 = dict()\n",
    "count_2_1 = 2\n",
    "other = 1\n",
    "for i in dictbuy.keys():\n",
    "    if coun[i] >= 15:\n",
    "        dict_buy15[i] = count_2_1\n",
    "        count_2_1 = count_2_1 + 1\n",
    "    else:\n",
    "        dict_buy15[i] = other       \n",
    "\n",
    "#dict_buy15 is a dictionary that could be added to the matrix\n",
    "\n",
    "\n",
    "counte = 0\n",
    "\n",
    "for i in range(len(matrix_basic)):\n",
    "    if buyer_sales[i] in dict_buy15.keys():\n",
    "        matrix_basic[i][6] = dict_buy15[buyer_sales[i]]\n",
    "    else:\n",
    "        matrix_basic[i][6] = 1\n",
    "\n",
    "\n",
    "#feature seller\n",
    "\n",
    "#add sale guy with unique number if he did more than 15 sales        \n",
    "dictsell = dict()\n",
    "count4 = 0\n",
    "count5 = 1\n",
    "for i in seller_sales:\n",
    "    if i in dictsell.keys():\n",
    "        #matrix[count4][4] = dictsell[i]\n",
    "        count4 = count4 + 1\n",
    "    else:\n",
    "        dictsell[i] = count5\n",
    "        #matrix[count4][4] = dictsell[i]\n",
    "        count4 = count4 + 1\n",
    "        count5 = count5 + 1      \n",
    "\n",
    "coun2 = Counter(seller_sales)\n",
    "\n",
    "dict_sell15 = dict()\n",
    "count2_2_1 = 2\n",
    "other2 = 1\n",
    "for i in dictsell.keys():\n",
    "    if coun2[i] >= 15:\n",
    "      \n",
    "        dict_sell15[i] = count2_2_1\n",
    "        count2_2_1 = count2_2_1 + 1\n",
    "    else:\n",
    "        \n",
    "        dict_sell15[i] = other2 \n",
    "\n",
    "for k in range(len(matrix_basic)):\n",
    "    if seller_sales[k] in dict_sell15.keys():\n",
    "        matrix_basic[k][7] = dict_sell15[seller_sales[k]]\n",
    "    else:\n",
    "        matrix_basic[k][7] = 1\n",
    "#dict_sell15 is a dictionary that could be added to the matrix\n",
    "\n",
    "#feature_extra_2 High correlation with variable 5, avg price 2 weeks before sale. so not used.\n",
    "#add rates\n",
    "\"\"\"\n",
    "count6 =0\n",
    "r224 = []\n",
    "for i in rate_sales:\n",
    "    r224.append(i)\n",
    "\n",
    "for l in range(len(r224)):\n",
    "    matrix_basic[l][8] = math.log(r224[int(l)] + 1)\n",
    "\"\"\"\n"
   ]
  },
  {
   "cell_type": "markdown",
   "metadata": {},
   "source": [
    "Now that we have our first 4 basic features ready we should look at whether the features correlate, because if they do the linear regression will not work. So we will need to do some profiling."
   ]
  },
  {
   "cell_type": "code",
   "execution_count": 8,
   "metadata": {},
   "outputs": [
    {
     "name": "stdout",
     "output_type": "stream",
     "text": [
      "<bound method NDFrame.head of          0    1    2    3         4         5     6      7          8\n",
      "0      1.0  4.0  1.0  2.0       NaN       NaN   2.0    2.0   5.172899\n",
      "1      3.0  1.0  3.0  2.0  6.498915  5.056918   3.0    3.0   9.476620\n",
      "2      4.0  1.0  1.0  2.0  7.758536  7.213486   1.0    1.0  11.611141\n",
      "3      1.0  4.0  1.0  2.0  5.172899       NaN   2.0    2.0   5.172899\n",
      "4      1.0  9.0  1.0  2.0  6.455458  4.440312   4.0    3.0   6.048080\n",
      "...    ...  ...  ...  ...       ...       ...   ...    ...        ...\n",
      "17474  4.0  3.0  4.0  1.0       NaN  9.145101   1.0    1.0   7.594092\n",
      "17475  4.0  3.0  4.0  1.0  7.743838  9.145101   1.0  235.0   8.980009\n",
      "17476  4.0  3.0  4.0  1.0       NaN  9.145101  49.0    1.0   8.469267\n",
      "17477  4.0  3.0  4.0  1.0  8.381924  9.145101   1.0    1.0   8.063907\n",
      "17478  4.0  3.0  4.0  1.0  7.042147  9.145101   1.0    1.0   7.553291\n",
      "\n",
      "[17479 rows x 9 columns]>\n"
     ]
    },
    {
     "name": "stderr",
     "output_type": "stream",
     "text": [
      "H:\\anaconda\\lib\\site-packages\\pandas\\core\\frame.py:4296: SettingWithCopyWarning: \n",
      "A value is trying to be set on a copy of a slice from a DataFrame\n",
      "\n",
      "See the caveats in the documentation: https://pandas.pydata.org/pandas-docs/stable/user_guide/indexing.html#returning-a-view-versus-a-copy\n",
      "  return super().rename(\n"
     ]
    },
    {
     "data": {
      "application/vnd.jupyter.widget-view+json": {
       "model_id": "91a80701b6474bfb96baf54d6a342fb1",
       "version_major": 2,
       "version_minor": 0
      },
      "text/plain": [
       "HBox(children=(HTML(value='Summarize dataset'), FloatProgress(value=0.0, max=22.0), HTML(value='')))"
      ]
     },
     "metadata": {},
     "output_type": "display_data"
    },
    {
     "name": "stdout",
     "output_type": "stream",
     "text": [
      "\n"
     ]
    },
    {
     "data": {
      "application/vnd.jupyter.widget-view+json": {
       "model_id": "9d244f56f4ee44c1a6f50ff1e7c563cd",
       "version_major": 2,
       "version_minor": 0
      },
      "text/plain": [
       "HBox(children=(HTML(value='Generate report structure'), FloatProgress(value=0.0, max=1.0), HTML(value='')))"
      ]
     },
     "metadata": {},
     "output_type": "display_data"
    },
    {
     "name": "stdout",
     "output_type": "stream",
     "text": [
      "\n"
     ]
    },
    {
     "data": {
      "application/vnd.jupyter.widget-view+json": {
       "model_id": "",
       "version_major": 2,
       "version_minor": 0
      },
      "text/plain": [
       "HBox(children=(HTML(value='Render widgets'), FloatProgress(value=0.0, max=1.0), HTML(value='')))"
      ]
     },
     "metadata": {},
     "output_type": "display_data"
    },
    {
     "data": {
      "application/vnd.jupyter.widget-view+json": {
       "model_id": "d0d70b31a03a40ab8b9eeafcc2759999",
       "version_major": 2,
       "version_minor": 0
      },
      "text/plain": [
       "VBox(children=(Tab(children=(Tab(children=(GridBox(children=(VBox(children=(GridspecLayout(children=(HTML(valu…"
      ]
     },
     "metadata": {},
     "output_type": "display_data"
    }
   ],
   "source": [
    "#source: https://github.com/Giovanni1085/covid-19_wikipedia/blob/master/Notebook_5_regression.ipynb\n",
    "#make a dataframe again from a matrix\n",
    "reg_ytrue = []\n",
    "for i in usd_sales:\n",
    "  \n",
    "    r123 = math.log(i + 1)\n",
    "    #r123 = i\n",
    "    reg_ytrue.append(r123)\n",
    "    \n",
    "    \n",
    "result = np.column_stack((matrix_basic, reg_ytrue))    \n",
    "    \n",
    "    \n",
    "dataframe = pandas.DataFrame(result)\n",
    "print(dataframe.head)\n",
    "\n",
    "r22 = dataframe.dropna()\n",
    "\n",
    "r22.reset_index(drop=True, inplace=True)\n",
    "\n",
    "from pandas_profiling import ProfileReport\n",
    "\n",
    "profile = ProfileReport(r22, title='Pandas Profiling Report', html={'style':{'full_width':True}})\n",
    "\n",
    "profile.to_widgets()\n",
    "\n"
   ]
  },
  {
   "cell_type": "markdown",
   "metadata": {},
   "source": [
    "As you can see in the correlation tab of the report most of the features are not correlated at all. Only feature 0 (years) and 1 (months) show a small negative pearson's r. For now I think we can go on with these features. First we will need to regularize the price."
   ]
  },
  {
   "cell_type": "code",
   "execution_count": 9,
   "metadata": {},
   "outputs": [
    {
     "name": "stdout",
     "output_type": "stream",
     "text": [
      "Pearsons correlation: 0.868\n"
     ]
    }
   ],
   "source": [
    "from sklearn.preprocessing import normalize, RobustScaler, MinMaxScaler, StandardScaler\n",
    "import seaborn as sns\n",
    "from scipy.stats import pearsonr\n",
    "\n",
    "matrix_basic2 = r22.to_numpy()\n",
    "#adding sale value to matrix so shuffling will work. \n",
    "\n",
    "df_last = pandas.DataFrame(matrix_basic2)\n",
    "#sns.displot(df_test)\n",
    "#df_last.boxplot(column=\"4\")  \n",
    "\n",
    "lst_feat = [matrix_basic2]\n",
    "#correlation\n",
    "corr, _ = pearsonr(matrix_basic2[:,4], matrix_basic2[:,8])\n",
    "print('Pearsons correlation: %.3f' % corr)"
   ]
  },
  {
   "cell_type": "code",
   "execution_count": 10,
   "metadata": {},
   "outputs": [
    {
     "name": "stdout",
     "output_type": "stream",
     "text": [
      "msq log error = 0.7127066084499669\n",
      "msqe = 37255855.31859041\n",
      "Coefficient of determination: 0.39\n"
     ]
    },
    {
     "data": {
      "image/png": "[encoded data removed]",
      "text/plain": [
       "<Figure size 432x288 with 1 Axes>"
      ]
     },
     "metadata": {
      "needs_background": "light"
     },
     "output_type": "display_data"
    }
   ],
   "source": [
    "from sklearn.model_selection import train_test_split\n",
    "from sklearn.utils import shuffle\n",
    "from sklearn.ensemble import RandomForestRegressor\n",
    "\n",
    "#shuffle and have a certain seed\n",
    "\n",
    "for i in lst_feat:\n",
    "    r = shuffle(i, random_state=1311) \n",
    "    training = round(len(i[:,1])*0.8)\n",
    "    #print(training)\n",
    "    #starts from 10785\n",
    "    test = training\n",
    "    X_train = r[:training, :8]\n",
    "    X_test  = r[test:, :8]\n",
    "    y_train = r[:training, 8]\n",
    "    y_test  = r[test:, 8]\n",
    "    #X_train, X_test, y_train, y_test = train_test_split(matrix_basic[:5],i[6],test_size=0.2,random_state =27) #diff way\n",
    "    \n",
    "    norm = MinMaxScaler()\n",
    "    norm.fit(X_test)\n",
    "    X_train_norm = norm.transform(X_train)\n",
    "\n",
    "    # transform testing data\n",
    "    X_test_norm = norm.fit_transform(X_test)\n",
    "    \n",
    "    fig, ax = plt.subplots()\n",
    "    #ax.scatter(X_train[:,4],y_train)\n",
    "    \n",
    "    linreg = LinearRegression()\n",
    "    linreg.fit(X_train_norm,y_train)\n",
    "    y_pred = linreg.predict(X_test_norm)\n",
    "        \n",
    "    #source https://machinelearningmastery.com/feature-selection-with-real-and-categorical-data/   \n",
    "    y_predxreg = []\n",
    "    y_truexreg = []\n",
    "        \n",
    "\n",
    "    for j in y_pred:\n",
    "        l = (math.e ** j) - 1\n",
    "        y_predxreg.append(l)\n",
    "       \n",
    "    for k in y_test:\n",
    "        l2 = (math.e ** k) - 1\n",
    "       \n",
    "        y_truexreg.append(l2)\n",
    "    \n",
    "    ax.scatter(y_predxreg,y_truexreg)\n",
    "    ax.set_ylabel(\"True values\")\n",
    "    ax.set_xlabel(\"Predictions\")\n",
    "    ax.set_title(\"Test\")\n",
    "    #ax.axis(\"equal\")\n",
    "    \n",
    "    from sklearn.metrics import mean_squared_error, r2_score, mean_squared_log_error\n",
    "    #the msq is super large, because of a prediction that is of the chart.\n",
    "    print(\"msq log error = \" + str(mean_squared_log_error(y_truexreg, y_predxreg)))\n",
    "    print(\"msqe = \" + str(mean_squared_error(y_truexreg, y_predxreg)))\n",
    "    print('Coefficient of determination: %.2f'\n",
    "      % r2_score(y_truexreg, y_predxreg))\n",
    "    \n"
   ]
  },
  {
   "cell_type": "code",
   "execution_count": 11,
   "metadata": {},
   "outputs": [
    {
     "name": "stdout",
     "output_type": "stream",
     "text": [
      "this is test vs pred:19.919999999999998   30.529945079906106\n",
      "this is test vs pred:11082.679999999995   9306.644747337343\n",
      "this is test vs pred:67.27499999999998   48.69576491674647\n",
      "this is test vs pred:48.91199999999999   98.79532813588995\n",
      "this is test vs pred:1310.4699999999993   1057.603032582946\n",
      "this is test vs pred:46.53199999999999   34.91791016703109\n",
      "this is test vs pred:598.2599999999995   505.68704035793616\n",
      "this is test vs pred:340.6999999999998   251.48143076977712\n",
      "this is test vs pred:133.55200000000002   189.66796743262313\n",
      "this is test vs pred:44.054999999999986   66.31088916835611\n"
     ]
    }
   ],
   "source": [
    "#here you can see the value of test and value. \n",
    "lw = []\n",
    "o = 0\n",
    "p = 0\n",
    "for i in range(10):\n",
    "    \n",
    "    #if p == 0:\n",
    "        #lw.append(-90000000000)\n",
    "    p = p + 1\n",
    "    if y_truexreg[i] == 344715.15:\n",
    "        o=i\n",
    "    \n",
    "    print(\"this is test vs pred:\" + str(y_truexreg[i]) + \"   \" + str(y_predxreg[i]))\n",
    "    lw.append((y_truexreg[i]-y_predxreg[i])**2)\n"
   ]
  },
  {
   "cell_type": "markdown",
   "metadata": {},
   "source": [
    "Below there will be a simple neural network trying to predict the price. "
   ]
  },
  {
   "cell_type": "code",
   "execution_count": 12,
   "metadata": {},
   "outputs": [
    {
     "name": "stdout",
     "output_type": "stream",
     "text": [
      "msq1 = 29217509.223505113\n",
      "msq1, still regularized = 0.6506984380758671\n",
      "Coefficient of determination: 0.52\n",
      "msq log error = 0.6506984380758671\n"
     ]
    },
    {
     "data": {
      "text/plain": [
       "Text(0.5, 1.0, 'Test')"
      ]
     },
     "execution_count": 12,
     "metadata": {},
     "output_type": "execute_result"
    },
    {
     "data": {
      "image/png": "[encoded data removed]",
      "text/plain": [
       "<Figure size 432x288 with 1 Axes>"
      ]
     },
     "metadata": {
      "needs_background": "light"
     },
     "output_type": "display_data"
    }
   ],
   "source": [
    "from sklearn.neural_network import MLPRegressor\n",
    "\n",
    "#https://datascience.stackexchange.com/questions/36049/how-to-adjust-the-hyperparameters-of-mlp-classifier-to-get-more-perfect-performa\n",
    "parameter_space = {\n",
    "    'hidden_layer_sizes': [(50,50,50) ,(15, 10)],\n",
    "    'activation': ['tanh', 'relu'],\n",
    "    'solver': ['lbfgs'],\n",
    "    'alpha': [0.0001, 0.05],\n",
    "    'learning_rate': ['constant','adaptive'],\n",
    "}    \n",
    "    \n",
    "#clf2 = MLPRegressor(max_iter=2500, alpha= 0.0001, hidden_layer_sizes= (15, 10), learning_rate= 'adaptive', solver= 'lbfgs')\n",
    "#'learning_rate': 'adaptive', 'solver': 'lbfgs'})\n",
    "    \n",
    "clf2 = MLPRegressor(solver='lbfgs', alpha=0.0001, hidden_layer_sizes=(15, 10), random_state=40,max_iter=5000, learning_rate= 'adaptive')\n",
    "\n",
    "\n",
    "#clf3 = GridSearchCV(clf2, parameter_space, cv=5) #best parameters found are: {'activation': 'tanh', 'alpha': 0.0001, 'hidden_layer_sizes': (15, 10), \n",
    "#'learning_rate': 'adaptive', 'solver': 'lbfgs'}\n",
    "\n",
    "clf2.fit(X_train_norm, y_train)\n",
    "\n",
    "#print('Best parameters found:\\n', clf3.best_params_)\n",
    "y_hat_test_n = clf2.predict(X_test_norm)\n",
    "y_predxreg2 = []\n",
    "for r in y_hat_test_n:\n",
    "     #l = math.e ** i - 1\n",
    "    l3 = math.e ** r - 1\n",
    "    y_predxreg2.append(l3)\n",
    "        \n",
    "     \n",
    "print(\"msq1 = \" + str(mean_squared_error(y_truexreg, y_predxreg2)))\n",
    "print(\"msq1, still regularized = \" + str(mean_squared_error(y_test, y_hat_test_n)))\n",
    "print('Coefficient of determination: %.2f'\n",
    "      % r2_score(y_truexreg, y_predxreg2))\n",
    "print(\"msq log error = \" + str(mean_squared_log_error(y_truexreg, y_predxreg2)))\n",
    "        \n",
    "fig, ax2 = plt.subplots()\n",
    "ax2.scatter(y_predxreg2,y_truexreg)\n",
    "ax2.set_ylabel(\"True values\")\n",
    "ax2.set_xlabel(\"Predictions\")\n",
    "ax2.set_title(\"Test\")"
   ]
  },
  {
   "cell_type": "code",
   "execution_count": 13,
   "metadata": {},
   "outputs": [
    {
     "name": "stdout",
     "output_type": "stream",
     "text": [
      "msq1 = 37852058.77948322\n",
      "Coefficient of determination: 0.38\n",
      "msq log error = 0.7122765244156843\n"
     ]
    },
    {
     "data": {
      "image/png": "[encoded data removed]",
      "text/plain": [
       "<Figure size 432x288 with 1 Axes>"
      ]
     },
     "metadata": {
      "needs_background": "light"
     },
     "output_type": "display_data"
    }
   ],
   "source": [
    "from sklearn.linear_model import ElasticNetCV # cv stands for cross validation\n",
    "regr = ElasticNetCV(random_state=1311,cv = 5)\n",
    "regr.fit(X_train_norm, y_train)\n",
    "y_pred3 = regr.predict(X_test_norm)\n",
    "              \n",
    "y_predxreg3 = []\n",
    "y_truexreg3 = []\n",
    "        \n",
    "for j in y_pred3:\n",
    "    l = (math.e ** j) - 1\n",
    "    y_predxreg3.append(l)\n",
    "            \n",
    "for k in y_test:\n",
    "    l2 = (math.e ** k) - 1\n",
    "    y_truexreg3.append(l2)\n",
    "\n",
    "print(\"msq1 = \" + str(mean_squared_error(y_truexreg, y_predxreg3)))\n",
    "print('Coefficient of determination: %.2f'\n",
    "      % r2_score(y_truexreg, y_predxreg3))\n",
    "\n",
    "fig, ax3= plt.subplots()\n",
    "ax3.scatter(y_predxreg3,y_truexreg)\n",
    "ax3.set_ylabel(\"True values\")\n",
    "ax3.set_xlabel(\"Predictions\")\n",
    "ax3.set_title(\"Test\")\n",
    "print(\"msq log error = \" + str(mean_squared_log_error(y_truexreg, y_predxreg3)))"
   ]
  },
  {
   "cell_type": "code",
   "execution_count": 14,
   "metadata": {},
   "outputs": [
    {
     "name": "stdout",
     "output_type": "stream",
     "text": [
      "msq1 = 23582692.195746567\n",
      "Coefficient of determination: 0.61\n",
      "msq log error = 0.4290004368354486\n"
     ]
    },
    {
     "data": {
      "image/png": "[encoded data removed]",
      "text/plain": [
       "<Figure size 432x288 with 1 Axes>"
      ]
     },
     "metadata": {
      "needs_background": "light"
     },
     "output_type": "display_data"
    }
   ],
   "source": [
    "from sklearn.ensemble import RandomForestRegressor\n",
    "\n",
    "\n",
    "regressor = RandomForestRegressor(n_estimators=250, random_state=0)\n",
    "\n",
    "regressor.fit(X_train_norm, y_train)\n",
    "y_pred4 = regressor.predict(X_test_norm)\n",
    "        \n",
    "y_predxreg4 = []\n",
    "y_truexreg4 = []\n",
    "        \n",
    "for j in y_pred4:\n",
    "    l = (math.e ** j) - 1\n",
    "    y_predxreg4.append(l)\n",
    "    #print(y_test[:100])        \n",
    "for k in y_test:\n",
    "    l2 = (math.e** k) - 1\n",
    "    y_truexreg4.append(l2)\n",
    "\n",
    "print(\"msq1 = \" + str(mean_squared_error(y_truexreg, y_predxreg4)))\n",
    "print('Coefficient of determination: %.2f'\n",
    "      % r2_score(y_truexreg, y_predxreg4))\n",
    "\n",
    "\n",
    "fig, ax4 = plt.subplots()\n",
    "ax4.scatter(y_predxreg4,y_truexreg)\n",
    "ax4.set_ylabel(\"True values\")\n",
    "ax4.set_xlabel(\"Predictions\")\n",
    "ax4.set_title(\"Test\")\n",
    "print(\"msq log error = \" + str(mean_squared_log_error(y_truexreg, y_predxreg4)))\n",
    "#ax4.axis(\"equal\")"
   ]
  },
  {
   "cell_type": "code",
   "execution_count": 15,
   "metadata": {},
   "outputs": [
    {
     "name": "stdout",
     "output_type": "stream",
     "text": [
      "msq1 = 34548233.168003626\n",
      "Coefficient of determination: 0.44\n",
      "msq log error = 0.5978671330949272\n"
     ]
    },
    {
     "data": {
      "image/png": "[encoded data removed]",
      "text/plain": [
       "<Figure size 432x288 with 1 Axes>"
      ]
     },
     "metadata": {
      "needs_background": "light"
     },
     "output_type": "display_data"
    }
   ],
   "source": [
    "from sklearn import svm\n",
    "from sklearn.model_selection import GridSearchCV\n",
    "svm = svm.SVR()\n",
    "parameters = {'kernel':('linear', 'rbf'),'C':[1, 10]}\n",
    "clf4 = GridSearchCV(svm, parameters)\n",
    "clf4.fit(X_train_norm, y_train)\n",
    "\n",
    "#svm.fit(X_train_norm, y_train)\n",
    "y_pred5 = clf4.predict(X_test_norm)\n",
    "      \n",
    "y_predxreg5 = []\n",
    "y_truexreg5 = []\n",
    "        \n",
    "for j in y_pred5:\n",
    "    l = (math.e ** j) - 1\n",
    "    y_predxreg5.append(l)\n",
    "            \n",
    "for k in y_test:\n",
    "    l2 = (math.e** k) - 1\n",
    "    y_truexreg5.append(l2)\n",
    "\n",
    "print(\"msq1 = \" + str(mean_squared_error(y_truexreg, y_predxreg5)))\n",
    "print('Coefficient of determination: %.2f'\n",
    "      % r2_score(y_truexreg, y_predxreg5))\n",
    "\n",
    "\n",
    "fig, ax5 = plt.subplots()\n",
    "ax5.scatter(y_predxreg5,y_truexreg)\n",
    "ax5.set_ylabel(\"True values\")\n",
    "ax5.set_xlabel(\"Predictions\")\n",
    "ax5.set_title(\"Test\")\n",
    "print(\"msq log error = \" + str(mean_squared_log_error(y_truexreg, y_predxreg5)))"
   ]
  }
 ],
 "metadata": {
  "kernelspec": {
   "display_name": "Python 3",
   "language": "python",
   "name": "python3"
  },
  "language_info": {
   "codemirror_mode": {
    "name": "ipython",
    "version": 3
   },
   "file_extension": ".py",
   "mimetype": "text/x-python",
   "name": "python",
   "nbconvert_exporter": "python",
   "pygments_lexer": "ipython3",
   "version": "3.8.5"
  }
 },
 "nbformat": 4,
 "nbformat_minor": 4
}
