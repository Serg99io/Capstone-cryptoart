{
 "cells": [
  {
   "cell_type": "markdown",
   "metadata": {},
   "source": [
    "In this notebook the code for my capstone will be nicely explained and commented. Below I will start by extracting the data from the csv files.\n"
   ]
  },
  {
   "cell_type": "code",
   "execution_count": 109,
   "metadata": {},
   "outputs": [],
   "source": [
    "import csv\n",
    "import pandas\n",
    "import math\n",
    "import matplotlib.pyplot as plt\n",
    "import numpy as np\n",
    "from sklearn.linear_model import LinearRegression\n",
    "import datetime\n",
    "from collections import Counter\n",
    "import random\n",
    "from statistics import mean\n"
   ]
  },
  {
   "cell_type": "code",
   "execution_count": 110,
   "metadata": {},
   "outputs": [
    {
     "name": "stdout",
     "output_type": "stream",
     "text": [
      "['2018-04-05T23:50:12Z', '2020-01-18T16:16:42Z', '2021-01-05T00:47:24Z', '2018-04-05T23:59:06Z', '2018-09-05T21:06:04Z']\n"
     ]
    }
   ],
   "source": [
    "#if any of the used feautures has a NaN value it not be used.\n",
    "df_sales2 = pandas.read_csv(\"sales2.csv\")\n",
    "c = df_sales2.columns[0:7]\n",
    "df_sales = df_sales2.dropna(subset=c)\n",
    "df_tokens = pandas.read_csv(\"tokens2.csv\")\n",
    "\n",
    "#every column is converted to a list since it is easier to work with but the index is now important since any change\n",
    "#could mess up the data\n",
    "usd_sales = df_sales['usd'].tolist()\n",
    "tokenId_sales = df_sales['tokenId'].tolist()\n",
    "timestamp_sales = df_sales['timestamp'].tolist()\n",
    "buyer_sales = df_sales['buyer'].tolist()\n",
    "seller_sales = df_sales['seller'].tolist()\n",
    "rate_sales = df_sales['rate'].tolist()\n",
    "\n",
    "creator_tokens = df_tokens['creator'].tolist()\n",
    "tokenId_tokens = df_tokens['tokenId'].tolist()\n",
    "\n",
    "#example of timestamp_sales\n",
    "print(timestamp_sales[:5])"
   ]
  },
  {
   "cell_type": "markdown",
   "metadata": {},
   "source": [
    "Below I will make a basic matrix with only three features as the first three colums, namely the year when the artwork got sold, the month, and the creator. The creator will only be unique when he made 40 or more sales, else he will go in the \"other\" category."
   ]
  },
  {
   "cell_type": "code",
   "execution_count": 111,
   "metadata": {
    "scrolled": true
   },
   "outputs": [
    {
     "name": "stdout",
     "output_type": "stream",
     "text": [
      "[[], [175.4256, 175.4256, 422.2995, 170.36100000000005, 170.36100000000005, 1212.7724, 696.05, 865.38, 640.84, 693.57, 1158.02, 861.82, 302.18804, 861.82, 299.0294, 1671.36, 804.92, 798.4960000000002, 44.88399999999999, 224.04, 2154.9, 191.28], [175.4256, 13050.0, 175.4256, 422.2995, 170.36100000000005, 4880.0, 170.36100000000005, 1212.7724, 696.05, 865.38, 640.84, 693.57, 1158.02, 861.82, 302.18804, 13121.823999999999, 861.82, 299.0294, 1671.36, 804.92, 798.4960000000002, 44.88399999999999, 224.04, 4373.99, 13642.65, 2154.9, 191.28, 4737.18, 0.24284, 0.24284, 0.24284, 0.24284, 13356.2, 23.98653782, 134.59050000000002], [175.4256], [175.4256, 175.4256, 170.36100000000005, 170.36100000000005, 1212.7724, 696.05, 865.38, 640.84, 693.57, 1158.02, 861.82, 302.18804, 861.82, 299.0294, 1671.36, 798.4960000000002, 44.88399999999999], [175.4256, 175.4256], [175.4256, 13050.0, 175.4256, 422.2995, 170.36100000000005, 170.36100000000005, 1212.7724, 696.05, 865.38, 640.84, 693.57, 1158.02, 861.82, 302.18804, 861.82, 299.0294, 1671.36, 804.92, 798.4960000000002, 44.88399999999999, 224.04, 2154.9, 191.28], [175.4256, 13050.0, 110319.0, 175.4256, 422.2995, 170.36100000000005, 4880.0, 170.36100000000005, 1212.7724, 696.05, 865.38, 640.84, 693.57, 1158.02, 861.82, 302.18804, 13121.823999999999, 861.82, 299.0294, 1671.36, 804.92, 798.4960000000002, 44.88399999999999, 224.04, 4373.99, 13642.65, 2154.9, 191.28, 4737.18, 0.24284, 0.24284, 0.24284, 0.24284, 13356.2, 23.98653782, 134.59050000000002], [175.4256, 175.4256, 170.36100000000005], [175.4256, 175.4256, 170.36100000000005, 170.36100000000005], [109.8975, 308.865, 58.375, 69.798, 144.01, 87.42, 203.72, 80.1905, 432.012, 220.0148, 134.222, 130.74, 67.185, 86.8515, 81.431, 93.24, 98.925, 92.406, 114.76, 174.84, 116.025, 369.325, 98.925, 87.42, 174.84, 78.678, 65.37, 104.53200000000001, 65.37, 75.075, 93.245, 70.84, 112.87, 103.8675, 90.7, 89.65450000000001, 162.175, 87.2475, 158.95, 186.8, 186.8, 152.841, 135.20549999999997, 153.01000000000005, 104.75, 107.514, 94.185, 131.406, 134.28, 112.995, 144.4, 134.28, 146.36, 119.61, 117.40959999999998, 138.49, 104.96800000000002, 450.66, 103.68, 106.83200000000001, 153.57099999999997, 141.68, 110.604, 99.834, 80.47800000000001, 133.71, 93.585, 40.239000000000004, 87.3635, 102.036, 300.44, 107.68800000000002, 240.14550000000003, 108.096, 159.22199999999995, 171.02849999999995, 86.505, 94.23, 122.785, 135.12, 108.096, 347.43800000000005, 238.576, 332.33200000000005, 112.25399999999999, 112.25399999999999, 112.86, 332.33200000000005], [308.865, 58.375, 69.798, 144.01, 87.42, 203.72, 80.1905, 432.012, 134.222, 130.74, 86.8515, 81.431, 93.24, 92.406, 114.76, 174.84, 116.025, 98.925, 87.42, 174.84, 78.678, 65.37, 104.53200000000001, 65.37, 75.075, 112.87, 90.7, 162.175, 87.2475, 158.95, 186.8, 186.8, 152.841, 135.20549999999997, 153.01000000000005, 104.75, 107.514, 94.185, 131.406, 134.28, 134.28]]\n"
     ]
    }
   ],
   "source": [
    "matrix_basic = np.zeros((len(timestamp_sales),5))\n",
    "\n",
    "count = 0\n",
    "#first day something got sold in this dataset. \n",
    "first_day = datetime.datetime(2018, 4, 5)\n",
    "\n",
    "#list with datetime.datetime of sale of every sale\n",
    "lstdays = []\n",
    "\n",
    "#list with days since first sale of every sale\n",
    "lstdays2 = []\n",
    "\n",
    "\n",
    "for i in timestamp_sales:\n",
    "    date = i.split(\"T\")[0]\n",
    "    time = i.split(\"T\")[1][0:-1]\n",
    "    #getting a datetime format out of timestamps.\n",
    "    #print(time)\n",
    "    date2 = datetime.datetime(int(date[0:4]),int(date[5:7]),int(date[8:]),hour = int(time[0:2]),minute = int(time[3:5]), second = int(time[6:]))\n",
    "    #print(date2)\n",
    "    date_year = date[:4]\n",
    "    date_months = date[5:7]\n",
    "    matrix_basic[count][0] = int(date_year) - 2017 \n",
    "    matrix_basic[count][1] = int(date_months)\n",
    "    delta = date2 - first_day\n",
    "    daydiff = delta.days\n",
    "    lstdays.append(date2)\n",
    "    lstdays2.append(daydiff)\n",
    "    count = count + 1\n",
    "#the first 10 dates have been tested \n",
    "    \n",
    "#dict with keys tokens and values creator\n",
    "dict_toccrea = dict()\n",
    "countt = 0\n",
    "for i in tokenId_tokens:\n",
    "    dict_toccrea[i] = creator_tokens[countt]\n",
    "    countt = countt + 1\n",
    "    \n",
    "listwcreato = []\n",
    "for i in tokenId_sales:\n",
    "\n",
    "    listwcreato.append(dict_toccrea[i])\n",
    "dictcrea = dict()\n",
    "#print(listwcreato)\n",
    "#listwcreato first 10 have been tested and are correct\n",
    "countercreator = Counter(listwcreato)\n",
    "count7 = 0\n",
    "count7_1 = 2\n",
    "#if the artist has sold more than 40 artworks he will get an unique vale in the dictionary\n",
    "for i in listwcreato:\n",
    "    if countercreator[i] >= 20:\n",
    "        if i in dictcrea.keys():\n",
    "            matrix_basic[count7][2] = dictcrea[i]\n",
    "            count7 = count7 + 1\n",
    "        else:\n",
    "            dictcrea[i] = count7_1\n",
    "            matrix_basic[count7][2] = dictcrea[i]\n",
    "            count7 = count7 + 1\n",
    "            count7_1 = count7_1 + 1  \n",
    "    else:\n",
    "        matrix_basic[count7][2] = 1\n",
    "        count7 = count7 + 1\n",
    "\n",
    "#the value of past artworks sold by the creator.\n",
    "#source: https://stackoverflow.com/questions/5419204/index-of-duplicates-items-in-a-python-list\n",
    "def duplicates(lst, item):\n",
    "    return [i for i, x in enumerate(lst) if x == item]\n",
    "\n",
    "\n",
    "count3 = 0\n",
    "lstwithindx = []\n",
    "#we got a list with all indexes in the sales.csv file that have the same creator\n",
    "for i in listwcreato:\n",
    "    lst = duplicates(listwcreato, i)\n",
    "    lstwithindx.append(lst)\n",
    "#lstwithindx got tested for the first 11 and it was correct\n",
    "count4 = 0\n",
    "value = []\n",
    "for i in lstwithindx:\n",
    "    lst12 = []\n",
    "    for j in i:\n",
    "        #when the datetime precedes the sale time then it will get added to the list of values. \n",
    "        if lstdays[j] < lstdays[count4]:\n",
    "            lst12.append(usd_sales[j])\n",
    "            \n",
    "            #if count < 5:\n",
    "                #print(str(lstdays[j]) + str(lstdays[count4]))\n",
    "    count4 =count4+1\n",
    "    value.append(lst12)\n",
    "print(value[:12])\n"
   ]
  },
  {
   "cell_type": "markdown",
   "metadata": {},
   "source": [
    "In the list value now all the prices of past artworks of the same creator are represented. The average will be taken to get a nice feature. However there are still some special cases to deal with. What to do when the list is empty and when it is the first artwork of a creator or when it is the first artwork ever sold on this platform. When the list is empty the value of all the artworks prior to selling will be used instead. And for the first ever artwork a random number between 1 and 100 will be used. "
   ]
  },
  {
   "cell_type": "code",
   "execution_count": 112,
   "metadata": {},
   "outputs": [
    {
     "name": "stdout",
     "output_type": "stream",
     "text": [
      "[52, 663.4201154545455, 2340.4752839377143, 175.4256, 635.1648847058824]\n"
     ]
    }
   ],
   "source": [
    "avg_value = []\n",
    "count9 = 0 \n",
    "for i in value:\n",
    "    #first artwork ever\n",
    "    if count9 == 0:\n",
    "        np.random.seed(42)\n",
    "        avg_value.append(np.random.randint(1,101))\n",
    "        count9 = count9 + 1\n",
    "        continue\n",
    "    #first artwork of creator # I am not sure wheter this is possible or whether it will mess with the linear regression\n",
    "    elif i == [] and count9 != 0:\n",
    "        #days of art since first sale. \n",
    "        dateofart = lstdays2[count9]\n",
    "        two_weeks = []\n",
    "        count10 = 0\n",
    "        #getting all artworks indecis 2 weeks before till artwork.\n",
    "        for j in lstdays2:\n",
    "            if dateofart > j >= (dateofart-14):\n",
    "                two_weeks.append(count10)\n",
    "            count10 = count10 + 1\n",
    "        sales = []\n",
    "        for k in two_weeks:\n",
    "            sales.append(usd_sales[k])\n",
    "        avg_value.append(mean(sales))\n",
    "        count9 = count9 + 1\n",
    "        \n",
    "    #mean of past artwork by same creators\n",
    "    elif i != []:\n",
    "        avg_value.append(mean(i))\n",
    "        count9 = count9 + 1\n",
    "\n",
    "count12 = 0\n",
    "for i in avg_value:\n",
    "    matrix_basic[count12][3] = i\n",
    "    count12 = count12 + 1\n",
    "    \n",
    "\n",
    "print(avg_value[:5])"
   ]
  },
  {
   "cell_type": "markdown",
   "metadata": {},
   "source": [
    "Now that we have our first 4 basic features ready we should look at whether the features correlate, because if they do the linear regression will not work. So we will need to do some profiling."
   ]
  },
  {
   "cell_type": "code",
   "execution_count": 121,
   "metadata": {},
   "outputs": [
    {
     "name": "stdout",
     "output_type": "stream",
     "text": [
      "<bound method NDFrame.head of          0    1      2            3\n",
      "0      1.0  4.0    2.0    52.000000\n",
      "1      3.0  1.0    2.0   663.420115\n",
      "2      4.0  1.0    2.0  2340.475284\n",
      "3      1.0  4.0    2.0   175.425600\n",
      "4      1.0  9.0    2.0   635.164885\n",
      "...    ...  ...    ...          ...\n",
      "17474  4.0  3.0    1.0  9367.431670\n",
      "17475  4.0  3.0  186.0  2306.311432\n",
      "17476  4.0  3.0    1.0  9367.431670\n",
      "17477  4.0  3.0    1.0  4366.404346\n",
      "17478  4.0  3.0    1.0  1142.841333\n",
      "\n",
      "[17479 rows x 4 columns]>\n"
     ]
    },
    {
     "data": {
      "application/vnd.jupyter.widget-view+json": {
       "model_id": "f56d2906cdb24c2097164765233802fa",
       "version_major": 2,
       "version_minor": 0
      },
      "text/plain": [
       "HBox(children=(HTML(value='Summarize dataset'), FloatProgress(value=0.0, max=17.0), HTML(value='')))"
      ]
     },
     "metadata": {},
     "output_type": "display_data"
    },
    {
     "name": "stdout",
     "output_type": "stream",
     "text": [
      "\n"
     ]
    },
    {
     "data": {
      "application/vnd.jupyter.widget-view+json": {
       "model_id": "ef0e72b940244970970dbd1d9777d46c",
       "version_major": 2,
       "version_minor": 0
      },
      "text/plain": [
       "HBox(children=(HTML(value='Generate report structure'), FloatProgress(value=0.0, max=1.0), HTML(value='')))"
      ]
     },
     "metadata": {},
     "output_type": "display_data"
    },
    {
     "name": "stdout",
     "output_type": "stream",
     "text": [
      "\n"
     ]
    },
    {
     "data": {
      "application/vnd.jupyter.widget-view+json": {
       "model_id": "",
       "version_major": 2,
       "version_minor": 0
      },
      "text/plain": [
       "HBox(children=(HTML(value='Render widgets'), FloatProgress(value=0.0, max=1.0), HTML(value='')))"
      ]
     },
     "metadata": {},
     "output_type": "display_data"
    },
    {
     "data": {
      "application/vnd.jupyter.widget-view+json": {
       "model_id": "acd9cf237f29466a85d32f34702ddbaa",
       "version_major": 2,
       "version_minor": 0
      },
      "text/plain": [
       "VBox(children=(Tab(children=(Tab(children=(GridBox(children=(VBox(children=(GridspecLayout(children=(HTML(valu…"
      ]
     },
     "metadata": {},
     "output_type": "display_data"
    }
   ],
   "source": [
    "#source: https://github.com/Giovanni1085/covid-19_wikipedia/blob/master/Notebook_5_regression.ipynb\n",
    "#make a dataframe again from a matrix\n",
    "dataframe = pandas.DataFrame(matrix_basic[:,:4])\n",
    "print(dataframe.head)\n",
    "\n",
    "from pandas_profiling import ProfileReport\n",
    "\n",
    "profile = ProfileReport(dataframe, title='Pandas Profiling Report', html={'style':{'full_width':True}})\n",
    "\n",
    "profile.to_widgets()"
   ]
  },
  {
   "cell_type": "markdown",
   "metadata": {},
   "source": [
    "As you can see in the correlation tab of the report most of the features are not correlated at all. Only feature 0 (years) and 1 (months) show a small negative pearson's r. For now I think we can go on with these features. First we will need to normalize these features and regularize the price."
   ]
  },
  {
   "cell_type": "code",
   "execution_count": 150,
   "metadata": {},
   "outputs": [
    {
     "name": "stdout",
     "output_type": "stream",
     "text": [
      "[[2.43595421e-03 4.25311038e-03 1.48080211e-04 1.84960049e-04\n",
      "  2.24656160e+00]\n",
      " [7.30786263e-03 1.06327759e-03 1.48080211e-04 2.35973494e-03\n",
      "  4.11564379e+00]\n",
      " [9.74381685e-03 1.06327759e-03 1.48080211e-04 8.32489274e-03\n",
      "  5.04265425e+00]\n",
      " ...\n",
      " [9.74381685e-03 3.18983278e-03 7.40401057e-05 3.33192427e-02\n",
      "  3.67815586e+00]\n",
      " [9.74381685e-03 3.18983278e-03 7.40401057e-05 1.55309685e-02\n",
      "  3.50211016e+00]\n",
      " [9.74381685e-03 3.18983278e-03 7.40401057e-05 4.06499978e-03\n",
      "  3.28035251e+00]]\n"
     ]
    }
   ],
   "source": [
    "from sklearn.preprocessing import normalize\n",
    "#normalize\n",
    "norm_matrix_basic = normalize(matrix_basic,axis = 0)\n",
    "#should I regularize feauture 4 perhaps too?\n",
    "#regularize\n",
    "reg_ytrue = []\n",
    "for i in usd_sales:\n",
    "    r = math.log(i +1, 10)\n",
    "    reg_ytrue.append(r)\n",
    "    \n",
    "#adding sale value to matrix so shuffling will work. \n",
    "count101 = 0 \n",
    "for i in reg_ytrue:\n",
    "    norm_matrix_basic[count101][4] = i\n",
    "    count101 = count101 + 1\n",
    "lst_feat = [norm_matrix_basic]\n",
    "print(norm_matrix_basic)"
   ]
  },
  {
   "cell_type": "code",
   "execution_count": 152,
   "metadata": {},
   "outputs": [
    {
     "name": "stdout",
     "output_type": "stream",
     "text": [
      "msq = 187496069.25597447\n",
      "Coefficient of determination: 0.48\n"
     ]
    },
    {
     "data": {
      "image/png": "[encoded data removed]",
      "text/plain": [
       "<Figure size 432x288 with 1 Axes>"
      ]
     },
     "metadata": {
      "needs_background": "light"
     },
     "output_type": "display_data"
    }
   ],
   "source": [
    "for i in lst_feat:\n",
    "    np.random.seed(42)\n",
    "    np.random.shuffle(i)\n",
    "    \n",
    "    training = round(len(i[:,1])*0.8)\n",
    "    #starts from 10785\n",
    "    test = training\n",
    "    #if only the first 3 features are selected than the mse will go down quite a bit but will still\n",
    "    # be 187496069.25597447.\n",
    "    X_train = i[:training, :4]   \n",
    "    X_test  = i[test:, :4]\n",
    "    y_train = i[:training, 4]\n",
    "    y_test  = i[test:, 4]\n",
    "    \n",
    "    linreg = LinearRegression().fit(X_train,y_train)\n",
    "    #print(\"score\" + str((linreg.score(X_train,y_train))))\n",
    "    \n",
    "    y_pred = linreg.predict(X_test)\n",
    "        \n",
    "    #source https://machinelearningmastery.com/feature-selection-with-real-and-categorical-data/\n",
    "    fig, ax = plt.subplots()\n",
    "       \n",
    "    y_predxreg = []\n",
    "    y_truexreg = []\n",
    "        \n",
    "    #does it go wrong here? # the base of regularization = 10\n",
    "    for j in y_pred:\n",
    "        l = 10 ** j - 1\n",
    "        \n",
    "        y_predxreg.append(l)\n",
    "            \n",
    "    for k in y_test:\n",
    "        l2 = 10 ** k - 1\n",
    "       \n",
    "        y_truexreg.append(l2)\n",
    "    ax.scatter(y_predxreg,y_truexreg)\n",
    "    ax.set_ylabel(\"true values\")\n",
    "    ax.set_xlabel(\"predictions\")\n",
    "    ax.set_title(\"Normalized and regularized test\")\n",
    "    from sklearn.metrics import mean_squared_error, r2_score\n",
    "    #the msq is super large, because of a prediction that is of the chart.\n",
    "    print(\"msq = \" + str(mean_squared_error(y_truexreg, y_predxreg)))\n",
    "    print('Coefficient of determination: %.2f'\n",
    "      % r2_score(y_test, y_pred))\n",
    "    \n",
    "    \n",
    "    \n",
    "    \n",
    "    "
   ]
  },
  {
   "cell_type": "code",
   "execution_count": 116,
   "metadata": {},
   "outputs": [
    {
     "name": "stdout",
     "output_type": "stream",
     "text": [
      "this is test vs pred:3505.7399999999957   1328.7884764209348\n",
      "this is test vs pred:117.27   379.1247465020609\n",
      "this is test vs pred:82.56849999999997   369.3807375641762\n",
      "this is test vs pred:619.931   468.84760129327697\n",
      "this is test vs pred:3708.7999999999943   385.3118273344203\n",
      "this is test vs pred:91.73250000000002   23.61251237423442\n",
      "this is test vs pred:106.23999999999987   153.3673432384345\n",
      "this is test vs pred:487.55100000000004   732.9366502758854\n",
      "this is test vs pred:740.939999999999   1088.9783588542157\n",
      "this is test vs pred:520.0543999999995   748.5069514539017\n",
      "this is test vs pred:168.0559999999999   211.40362058811328\n",
      "this is test vs pred:22.696499999999993   60.543302669014324\n",
      "this is test vs pred:195.14   240.39231358709372\n",
      "this is test vs pred:125.18450000000001   289.77883314489185\n",
      "this is test vs pred:92.09999999999997   61.00834388998758\n",
      "this is test vs pred:9028.199999999986   1928.861438737739\n",
      "this is test vs pred:48.8274   68.76089095696193\n",
      "this is test vs pred:588.7174999999996   16344.134837523005\n",
      "this is test vs pred:3606.599999999997   356.7764301085042\n",
      "this is test vs pred:44.71199999999999   24.50225588621547\n"
     ]
    }
   ],
   "source": [
    "#here you can see the value of test and value. \n",
    "for i in range(20):\n",
    "    \n",
    "    print(\"this is test vs pred:\" + str(y_truexreg[i]) + \"   \" + str(y_predxreg[i]))\n",
    "    \n"
   ]
  },
  {
   "cell_type": "markdown",
   "metadata": {},
   "source": [
    "As you can see there is still something wrong with the predictions since sometimes the prediction is just way off the chart. Below there will be a simple neural network trying to predict the price. "
   ]
  },
  {
   "cell_type": "code",
   "execution_count": 132,
   "metadata": {},
   "outputs": [
    {
     "name": "stdout",
     "output_type": "stream",
     "text": [
      "msq1 = 580964039219.3889\n",
      "msq1, still regularized = 0.31285215320683707\n"
     ]
    }
   ],
   "source": [
    "from sklearn.neural_network import MLPRegressor\n",
    "for i in lst_feat:\n",
    "        clf3 = MLPRegressor(solver='lbfgs', alpha=1e-5,\n",
    "                    hidden_layer_sizes=(15, 6), random_state=42,max_iter=2500)\n",
    "        clf3.fit(X_train, y_train)\n",
    "        y_hat_test_n = clf3.predict(X_test)\n",
    "        \n",
    "        y_predxreg2 = []\n",
    "        \n",
    "        \n",
    "        for r in y_hat_test_n:\n",
    "            #l = math.e ** i - 1\n",
    "            l3 = 10 ** r - 1\n",
    "            y_predxreg2.append(l3)\n",
    "        \n",
    "        \n",
    "        \n",
    "        print(\"msq1 = \" + str(mean_squared_error(y_truexreg, y_predxreg2)))\n",
    "        print(\"msq1, still regularized = \" + str(mean_squared_error(y_test, y_hat_test_n)))"
   ]
  },
  {
   "cell_type": "markdown",
   "metadata": {},
   "source": [
    "I am still not sure where the fault and mistake is. Below I will add other features that can be used for further models."
   ]
  },
  {
   "cell_type": "code",
   "execution_count": 124,
   "metadata": {},
   "outputs": [],
   "source": [
    "from collections import Counter\n",
    "\n",
    "#feature_extra_1 \n",
    "\n",
    "#add buy guy with unique number if he did more than 15 buys\n",
    "dictbuy = dict()\n",
    "count22 = 0\n",
    "count33 = 1\n",
    "coun = Counter(buyer_sales)\n",
    "\n",
    "\n",
    "for i in buyer_sales:\n",
    "    \n",
    "    if i in dictbuy.keys():\n",
    "            #matrix[count2][3] = dictbuy[i]\n",
    "            count22 = count22 + 1\n",
    "    else:\n",
    "        dictbuy[i] = count33\n",
    "        #matrix[count2][3] = dictbuy[i]\n",
    "        count33 = count33 + 1\n",
    "        count22 = count22 + 1\n",
    " #checl whether counter of number is higher then 15\n",
    "dict_buy15 = dict()\n",
    "count_2_1 = 2\n",
    "other = 1\n",
    "for i in dictbuy.keys():\n",
    "    if coun[i] >= 15:\n",
    "        dict_buy15[i] = count_2_1\n",
    "        count_2_1 = count_2_1 + 1\n",
    "    else:\n",
    "        dict_buy15[i] = other       \n",
    "\n",
    "#dict_buy15 is a dictionary that could be added to the matrix\n",
    "\n",
    "#feature_extra_2\n",
    "\n",
    "#add sale guy with unique number if he did more than 15 sales        \n",
    "dictsell = dict()\n",
    "count4 = 0\n",
    "count5 = 1\n",
    "for i in seller_sales:\n",
    "    if i in dictsell.keys():\n",
    "        #matrix[count4][4] = dictsell[i]\n",
    "        count4 = count4 + 1\n",
    "    else:\n",
    "        dictsell[i] = count5\n",
    "        #matrix[count4][4] = dictsell[i]\n",
    "        count4 = count4 + 1\n",
    "        count5 = count5 + 1      \n",
    "\n",
    "coun2 = Counter(seller_sales)\n",
    "\n",
    "dict_sell15 = dict()\n",
    "count2_2_1 = 2\n",
    "other2 = 1\n",
    "for i in dictsell.keys():\n",
    "    if coun2[i] >= 15:\n",
    "        dict_sell15[i] = count2_2_1\n",
    "        count2_2_1 = count2_2_1 + 1\n",
    "    else:\n",
    "        dict_sell15[i] = other2 \n",
    "\n",
    "#dict_sell15 is a dictionary that could be added to the matrix\n",
    "\n",
    "#feature_extra_2\n",
    "#add rates\n",
    "count6 =0\n",
    "r22 = []\n",
    "for i in rate_sales:\n",
    "    r22.append(i)\n",
    "    count6 = count6 + 1"
   ]
  },
  {
   "cell_type": "code",
   "execution_count": null,
   "metadata": {},
   "outputs": [],
   "source": []
  }
 ],
 "metadata": {
  "kernelspec": {
   "display_name": "Python 3",
   "language": "python",
   "name": "python3"
  },
  "language_info": {
   "codemirror_mode": {
    "name": "ipython",
    "version": 3
   },
   "file_extension": ".py",
   "mimetype": "text/x-python",
   "name": "python",
   "nbconvert_exporter": "python",
   "pygments_lexer": "ipython3",
   "version": "3.8.5"
  }
 },
 "nbformat": 4,
 "nbformat_minor": 4
}
